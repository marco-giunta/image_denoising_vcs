{
 "cells": [
  {
   "cell_type": "code",
   "execution_count": 39,
   "metadata": {},
   "outputs": [],
   "source": [
    "import torch\n",
    "import torchvision\n",
    "from torch import nn\n",
    "import numpy as np \n",
    "import pandas as pd\n",
    "import matplotlib.pyplot as plt\n",
    "from tqdm import trange, tqdm\n",
    "from torch.utils.data import Dataset, DataLoader, random_split\n",
    "import os\n",
    "from PIL import Image\n",
    "from torchvision import transforms\n",
    "import pickle\n",
    "import torch.nn.functional as F"
   ]
  },
  {
   "cell_type": "markdown",
   "metadata": {},
   "source": [
    "## dati"
   ]
  },
  {
   "cell_type": "code",
   "execution_count": 8,
   "metadata": {},
   "outputs": [
    {
     "name": "stdout",
     "output_type": "stream",
     "text": [
      "Selected device: cuda\n"
     ]
    }
   ],
   "source": [
    "# Check if the GPU is available\n",
    "device = torch.device(\"cuda\") if torch.cuda.is_available() else torch.device(\"cpu\")\n",
    "print(f'Selected device: {device}')"
   ]
  },
  {
   "cell_type": "code",
   "execution_count": 9,
   "metadata": {},
   "outputs": [],
   "source": [
    "class AutoEncodeDataset(Dataset):\n",
    "    \"\"\"\"\"\"\n",
    "\n",
    "    def __init__(self, dataset_gt, dataset_blur):\n",
    "        self.dataset_gt = dataset_gt\n",
    "        self.dataset_blur = dataset_blur\n",
    "\n",
    "    def __len__(self):\n",
    "        return len(self.dataset_gt)\n",
    "\n",
    "    def __getitem__(self, idx):\n",
    "        x, _ = self.dataset_blur.__getitem__(idx)\n",
    "        y, _ = self.dataset_gt.__getitem__(idx)\n",
    "        return x, y"
   ]
  },
  {
   "cell_type": "code",
   "execution_count": 10,
   "metadata": {},
   "outputs": [],
   "source": [
    "initial_transform = transforms.Compose([\n",
    "    transforms.ToTensor(),\n",
    "    transforms.CenterCrop(112),\n",
    "    transforms.Normalize(0.5,0.5)])\n",
    "\n",
    "blur_transform = transforms.Compose([\n",
    "    transforms.ToTensor(),\n",
    "    transforms.CenterCrop(112),\n",
    "    transforms.GaussianBlur(9,4),\n",
    "    transforms.Normalize(0.5,0.5)])"
   ]
  },
  {
   "cell_type": "code",
   "execution_count": 11,
   "metadata": {},
   "outputs": [
    {
     "name": "stdout",
     "output_type": "stream",
     "text": [
      "Files already downloaded and verified\n",
      "Files already downloaded and verified\n",
      "Files already downloaded and verified\n",
      "Files already downloaded and verified\n"
     ]
    }
   ],
   "source": [
    "data_dir = 'lfw_torch/'\n",
    "\n",
    "train_dataset = AutoEncodeDataset(\n",
    "    torchvision.datasets.LFWPeople(data_dir, split='train', download=True, transform=initial_transform),\n",
    "    torchvision.datasets.LFWPeople(data_dir, split='train', download=True, transform=blur_transform)\n",
    ")\n",
    "\n",
    "test_dataset = AutoEncodeDataset(\n",
    "    torchvision.datasets.LFWPeople(data_dir, split='test', download=True, transform=initial_transform),\n",
    "    torchvision.datasets.LFWPeople(data_dir, split='test', download=True, transform=blur_transform)\n",
    ")"
   ]
  },
  {
   "cell_type": "code",
   "execution_count": 12,
   "metadata": {},
   "outputs": [],
   "source": [
    "batch_size = 8\n",
    "\n",
    "N_val = int(len(train_dataset)*0.2)\n",
    "train_dataset_red, val_dataset = random_split(train_dataset, \n",
    "                                 lengths=[len(train_dataset)-N_val, N_val], \n",
    "                                 generator=torch.Generator().manual_seed(42))\n",
    "train_dataloader = DataLoader(train_dataset, batch_size=batch_size, shuffle=True, num_workers=0,)\n",
    "train_dataloader_red = DataLoader(train_dataset_red, batch_size=batch_size, shuffle=True, num_workers=0)\n",
    "val_dataloader   = DataLoader(val_dataset, batch_size=batch_size, shuffle=True, num_workers=0)\n",
    "test_dataloader  = DataLoader(test_dataset, batch_size=batch_size, shuffle=True, num_workers=0)"
   ]
  },
  {
   "cell_type": "code",
   "execution_count": 13,
   "metadata": {},
   "outputs": [],
   "source": [
    "def plotrescale(data):\n",
    "    return np.dstack(data)*0.5 + 0.5"
   ]
  },
  {
   "cell_type": "markdown",
   "metadata": {},
   "source": [
    "## perc loss"
   ]
  },
  {
   "cell_type": "code",
   "execution_count": 54,
   "metadata": {},
   "outputs": [],
   "source": [
    "vgg = torchvision.models.vgg16(pretrained = True) # c'è anche vgg16_bn con la batch normaliz"
   ]
  },
  {
   "cell_type": "code",
   "execution_count": 15,
   "metadata": {},
   "outputs": [
    {
     "data": {
      "text/plain": [
       "Sequential(\n",
       "  (0): Conv2d(3, 64, kernel_size=(3, 3), stride=(1, 1), padding=(1, 1))\n",
       "  (1): ReLU(inplace=True)\n",
       "  (2): Conv2d(64, 64, kernel_size=(3, 3), stride=(1, 1), padding=(1, 1))\n",
       "  (3): ReLU(inplace=True)\n",
       "  (4): MaxPool2d(kernel_size=2, stride=2, padding=0, dilation=1, ceil_mode=False)\n",
       "  (5): Conv2d(64, 128, kernel_size=(3, 3), stride=(1, 1), padding=(1, 1))\n",
       "  (6): ReLU(inplace=True)\n",
       "  (7): Conv2d(128, 128, kernel_size=(3, 3), stride=(1, 1), padding=(1, 1))\n",
       "  (8): ReLU(inplace=True)\n",
       "  (9): MaxPool2d(kernel_size=2, stride=2, padding=0, dilation=1, ceil_mode=False)\n",
       "  (10): Conv2d(128, 256, kernel_size=(3, 3), stride=(1, 1), padding=(1, 1))\n",
       "  (11): ReLU(inplace=True)\n",
       "  (12): Conv2d(256, 256, kernel_size=(3, 3), stride=(1, 1), padding=(1, 1))\n",
       "  (13): ReLU(inplace=True)\n",
       "  (14): Conv2d(256, 256, kernel_size=(3, 3), stride=(1, 1), padding=(1, 1))\n",
       "  (15): ReLU(inplace=True)\n",
       "  (16): MaxPool2d(kernel_size=2, stride=2, padding=0, dilation=1, ceil_mode=False)\n",
       "  (17): Conv2d(256, 512, kernel_size=(3, 3), stride=(1, 1), padding=(1, 1))\n",
       "  (18): ReLU(inplace=True)\n",
       "  (19): Conv2d(512, 512, kernel_size=(3, 3), stride=(1, 1), padding=(1, 1))\n",
       "  (20): ReLU(inplace=True)\n",
       "  (21): Conv2d(512, 512, kernel_size=(3, 3), stride=(1, 1), padding=(1, 1))\n",
       "  (22): ReLU(inplace=True)\n",
       "  (23): MaxPool2d(kernel_size=2, stride=2, padding=0, dilation=1, ceil_mode=False)\n",
       "  (24): Conv2d(512, 512, kernel_size=(3, 3), stride=(1, 1), padding=(1, 1))\n",
       "  (25): ReLU(inplace=True)\n",
       "  (26): Conv2d(512, 512, kernel_size=(3, 3), stride=(1, 1), padding=(1, 1))\n",
       "  (27): ReLU(inplace=True)\n",
       "  (28): Conv2d(512, 512, kernel_size=(3, 3), stride=(1, 1), padding=(1, 1))\n",
       "  (29): ReLU(inplace=True)\n",
       "  (30): MaxPool2d(kernel_size=2, stride=2, padding=0, dilation=1, ceil_mode=False)\n",
       ")"
      ]
     },
     "execution_count": 15,
     "metadata": {},
     "output_type": "execute_result"
    }
   ],
   "source": [
    "vgg.features # voglio 5, 6, ..., 15. Il 4 è il maxpool che scende a 112*112, il 16 a 28*28"
   ]
  },
  {
   "cell_type": "code",
   "execution_count": 16,
   "metadata": {},
   "outputs": [
    {
     "data": {
      "text/plain": [
       "Sequential(\n",
       "  (5): Conv2d(64, 128, kernel_size=(3, 3), stride=(1, 1), padding=(1, 1))\n",
       "  (6): ReLU(inplace=True)\n",
       "  (7): Conv2d(128, 128, kernel_size=(3, 3), stride=(1, 1), padding=(1, 1))\n",
       "  (8): ReLU(inplace=True)\n",
       "  (9): MaxPool2d(kernel_size=2, stride=2, padding=0, dilation=1, ceil_mode=False)\n",
       "  (10): Conv2d(128, 256, kernel_size=(3, 3), stride=(1, 1), padding=(1, 1))\n",
       "  (11): ReLU(inplace=True)\n",
       "  (12): Conv2d(256, 256, kernel_size=(3, 3), stride=(1, 1), padding=(1, 1))\n",
       "  (13): ReLU(inplace=True)\n",
       "  (14): Conv2d(256, 256, kernel_size=(3, 3), stride=(1, 1), padding=(1, 1))\n",
       "  (15): ReLU(inplace=True)\n",
       ")"
      ]
     },
     "execution_count": 16,
     "metadata": {},
     "output_type": "execute_result"
    }
   ],
   "source": [
    "f = vgg.features[5:16]\n",
    "f"
   ]
  },
  {
   "cell_type": "code",
   "execution_count": 35,
   "metadata": {},
   "outputs": [
    {
     "ename": "RuntimeError",
     "evalue": "Given groups=1, weight of size [128, 64, 3, 3], expected input[1, 3, 112, 112] to have 64 channels, but got 3 channels instead",
     "output_type": "error",
     "traceback": [
      "\u001b[1;31m---------------------------------------------------------------------------\u001b[0m",
      "\u001b[1;31mRuntimeError\u001b[0m                              Traceback (most recent call last)",
      "\u001b[1;32md:\\CV\\perc_loss.ipynb Cella 13\u001b[0m in \u001b[0;36m<cell line: 2>\u001b[1;34m()\u001b[0m\n\u001b[0;32m      <a href='vscode-notebook-cell:/d%3A/CV/perc_loss.ipynb#X55sZmlsZQ%3D%3D?line=0'>1</a>\u001b[0m t \u001b[39m=\u001b[39m test_dataset[\u001b[39m0\u001b[39m][\u001b[39m0\u001b[39m]\u001b[39m.\u001b[39munsqueeze(\u001b[39m0\u001b[39m)\n\u001b[1;32m----> <a href='vscode-notebook-cell:/d%3A/CV/perc_loss.ipynb#X55sZmlsZQ%3D%3D?line=1'>2</a>\u001b[0m f(t)\u001b[39m.\u001b[39mshape\n",
      "File \u001b[1;32mc:\\Users\\ma_gi\\AppData\\Local\\Programs\\Python\\Python39\\lib\\site-packages\\torch\\nn\\modules\\module.py:1102\u001b[0m, in \u001b[0;36mModule._call_impl\u001b[1;34m(self, *input, **kwargs)\u001b[0m\n\u001b[0;32m   1098\u001b[0m \u001b[39m# If we don't have any hooks, we want to skip the rest of the logic in\u001b[39;00m\n\u001b[0;32m   1099\u001b[0m \u001b[39m# this function, and just call forward.\u001b[39;00m\n\u001b[0;32m   1100\u001b[0m \u001b[39mif\u001b[39;00m \u001b[39mnot\u001b[39;00m (\u001b[39mself\u001b[39m\u001b[39m.\u001b[39m_backward_hooks \u001b[39mor\u001b[39;00m \u001b[39mself\u001b[39m\u001b[39m.\u001b[39m_forward_hooks \u001b[39mor\u001b[39;00m \u001b[39mself\u001b[39m\u001b[39m.\u001b[39m_forward_pre_hooks \u001b[39mor\u001b[39;00m _global_backward_hooks\n\u001b[0;32m   1101\u001b[0m         \u001b[39mor\u001b[39;00m _global_forward_hooks \u001b[39mor\u001b[39;00m _global_forward_pre_hooks):\n\u001b[1;32m-> 1102\u001b[0m     \u001b[39mreturn\u001b[39;00m forward_call(\u001b[39m*\u001b[39m\u001b[39minput\u001b[39m, \u001b[39m*\u001b[39m\u001b[39m*\u001b[39mkwargs)\n\u001b[0;32m   1103\u001b[0m \u001b[39m# Do not call functions when jit is used\u001b[39;00m\n\u001b[0;32m   1104\u001b[0m full_backward_hooks, non_full_backward_hooks \u001b[39m=\u001b[39m [], []\n",
      "File \u001b[1;32mc:\\Users\\ma_gi\\AppData\\Local\\Programs\\Python\\Python39\\lib\\site-packages\\torch\\nn\\modules\\container.py:141\u001b[0m, in \u001b[0;36mSequential.forward\u001b[1;34m(self, input)\u001b[0m\n\u001b[0;32m    139\u001b[0m \u001b[39mdef\u001b[39;00m \u001b[39mforward\u001b[39m(\u001b[39mself\u001b[39m, \u001b[39minput\u001b[39m):\n\u001b[0;32m    140\u001b[0m     \u001b[39mfor\u001b[39;00m module \u001b[39min\u001b[39;00m \u001b[39mself\u001b[39m:\n\u001b[1;32m--> 141\u001b[0m         \u001b[39minput\u001b[39m \u001b[39m=\u001b[39m module(\u001b[39minput\u001b[39;49m)\n\u001b[0;32m    142\u001b[0m     \u001b[39mreturn\u001b[39;00m \u001b[39minput\u001b[39m\n",
      "File \u001b[1;32mc:\\Users\\ma_gi\\AppData\\Local\\Programs\\Python\\Python39\\lib\\site-packages\\torch\\nn\\modules\\module.py:1102\u001b[0m, in \u001b[0;36mModule._call_impl\u001b[1;34m(self, *input, **kwargs)\u001b[0m\n\u001b[0;32m   1098\u001b[0m \u001b[39m# If we don't have any hooks, we want to skip the rest of the logic in\u001b[39;00m\n\u001b[0;32m   1099\u001b[0m \u001b[39m# this function, and just call forward.\u001b[39;00m\n\u001b[0;32m   1100\u001b[0m \u001b[39mif\u001b[39;00m \u001b[39mnot\u001b[39;00m (\u001b[39mself\u001b[39m\u001b[39m.\u001b[39m_backward_hooks \u001b[39mor\u001b[39;00m \u001b[39mself\u001b[39m\u001b[39m.\u001b[39m_forward_hooks \u001b[39mor\u001b[39;00m \u001b[39mself\u001b[39m\u001b[39m.\u001b[39m_forward_pre_hooks \u001b[39mor\u001b[39;00m _global_backward_hooks\n\u001b[0;32m   1101\u001b[0m         \u001b[39mor\u001b[39;00m _global_forward_hooks \u001b[39mor\u001b[39;00m _global_forward_pre_hooks):\n\u001b[1;32m-> 1102\u001b[0m     \u001b[39mreturn\u001b[39;00m forward_call(\u001b[39m*\u001b[39m\u001b[39minput\u001b[39m, \u001b[39m*\u001b[39m\u001b[39m*\u001b[39mkwargs)\n\u001b[0;32m   1103\u001b[0m \u001b[39m# Do not call functions when jit is used\u001b[39;00m\n\u001b[0;32m   1104\u001b[0m full_backward_hooks, non_full_backward_hooks \u001b[39m=\u001b[39m [], []\n",
      "File \u001b[1;32mc:\\Users\\ma_gi\\AppData\\Local\\Programs\\Python\\Python39\\lib\\site-packages\\torch\\nn\\modules\\conv.py:446\u001b[0m, in \u001b[0;36mConv2d.forward\u001b[1;34m(self, input)\u001b[0m\n\u001b[0;32m    445\u001b[0m \u001b[39mdef\u001b[39;00m \u001b[39mforward\u001b[39m(\u001b[39mself\u001b[39m, \u001b[39minput\u001b[39m: Tensor) \u001b[39m-\u001b[39m\u001b[39m>\u001b[39m Tensor:\n\u001b[1;32m--> 446\u001b[0m     \u001b[39mreturn\u001b[39;00m \u001b[39mself\u001b[39;49m\u001b[39m.\u001b[39;49m_conv_forward(\u001b[39minput\u001b[39;49m, \u001b[39mself\u001b[39;49m\u001b[39m.\u001b[39;49mweight, \u001b[39mself\u001b[39;49m\u001b[39m.\u001b[39;49mbias)\n",
      "File \u001b[1;32mc:\\Users\\ma_gi\\AppData\\Local\\Programs\\Python\\Python39\\lib\\site-packages\\torch\\nn\\modules\\conv.py:442\u001b[0m, in \u001b[0;36mConv2d._conv_forward\u001b[1;34m(self, input, weight, bias)\u001b[0m\n\u001b[0;32m    438\u001b[0m \u001b[39mif\u001b[39;00m \u001b[39mself\u001b[39m\u001b[39m.\u001b[39mpadding_mode \u001b[39m!=\u001b[39m \u001b[39m'\u001b[39m\u001b[39mzeros\u001b[39m\u001b[39m'\u001b[39m:\n\u001b[0;32m    439\u001b[0m     \u001b[39mreturn\u001b[39;00m F\u001b[39m.\u001b[39mconv2d(F\u001b[39m.\u001b[39mpad(\u001b[39minput\u001b[39m, \u001b[39mself\u001b[39m\u001b[39m.\u001b[39m_reversed_padding_repeated_twice, mode\u001b[39m=\u001b[39m\u001b[39mself\u001b[39m\u001b[39m.\u001b[39mpadding_mode),\n\u001b[0;32m    440\u001b[0m                     weight, bias, \u001b[39mself\u001b[39m\u001b[39m.\u001b[39mstride,\n\u001b[0;32m    441\u001b[0m                     _pair(\u001b[39m0\u001b[39m), \u001b[39mself\u001b[39m\u001b[39m.\u001b[39mdilation, \u001b[39mself\u001b[39m\u001b[39m.\u001b[39mgroups)\n\u001b[1;32m--> 442\u001b[0m \u001b[39mreturn\u001b[39;00m F\u001b[39m.\u001b[39;49mconv2d(\u001b[39minput\u001b[39;49m, weight, bias, \u001b[39mself\u001b[39;49m\u001b[39m.\u001b[39;49mstride,\n\u001b[0;32m    443\u001b[0m                 \u001b[39mself\u001b[39;49m\u001b[39m.\u001b[39;49mpadding, \u001b[39mself\u001b[39;49m\u001b[39m.\u001b[39;49mdilation, \u001b[39mself\u001b[39;49m\u001b[39m.\u001b[39;49mgroups)\n",
      "\u001b[1;31mRuntimeError\u001b[0m: Given groups=1, weight of size [128, 64, 3, 3], expected input[1, 3, 112, 112] to have 64 channels, but got 3 channels instead"
     ]
    }
   ],
   "source": [
    "t = test_dataset[0][0].unsqueeze(0)\n",
    "f(t).shape"
   ]
  },
  {
   "cell_type": "code",
   "execution_count": 28,
   "metadata": {},
   "outputs": [],
   "source": [
    "def plot_img(x):\n",
    "    y = x.cpu().numpy() * 0.5 + 0.5 # normaliz\n",
    "    if y.shape != torch.Size([3, 112, 112]):\n",
    "        y = y.squeeze(0)\n",
    "    y = y.transpose([1, 2, 0])\n",
    "    # print(y.shape)\n",
    "    plt.imshow(y)"
   ]
  },
  {
   "cell_type": "code",
   "execution_count": 30,
   "metadata": {},
   "outputs": [
    {
     "name": "stdout",
     "output_type": "stream",
     "text": [
      "(112, 112, 3)\n"
     ]
    },
    {
     "data": {
      "image/png": "[encoded data removed]",
      "text/plain": [
       "<Figure size 432x288 with 1 Axes>"
      ]
     },
     "metadata": {
      "needs_background": "light"
     },
     "output_type": "display_data"
    }
   ],
   "source": [
    "t = test_dataset[0][1].unsqueeze(0)\n",
    "plot_img(t)"
   ]
  },
  {
   "cell_type": "code",
   "execution_count": 31,
   "metadata": {},
   "outputs": [],
   "source": [
    "def plot_img_hd(x):\n",
    "    y = x.cpu().numpy() * 0.5 + 0.5 # normaliz\n",
    "    if y.shape != torch.Size([3, 224, 224]):\n",
    "        y = y.squeeze(0)\n",
    "    y = y.transpose([1, 2, 0])\n",
    "    # print(y.shape)\n",
    "    plt.imshow(y)"
   ]
  },
  {
   "cell_type": "code",
   "execution_count": 33,
   "metadata": {},
   "outputs": [
    {
     "data": {
      "image/png": "[encoded data removed]",
      "text/plain": [
       "<Figure size 432x288 with 1 Axes>"
      ]
     },
     "metadata": {
      "needs_background": "light"
     },
     "output_type": "display_data"
    }
   ],
   "source": [
    "up = nn.Upsample(size = (224, 224)) # oppure scale_factor = 2 (112*2=224)\n",
    "plot_img_hd(up(t)) # https://pytorch.org/docs/stable/generated/torch.nn.Upsample.html"
   ]
  },
  {
   "cell_type": "code",
   "execution_count": 36,
   "metadata": {},
   "outputs": [
    {
     "data": {
      "text/plain": [
       "Sequential(\n",
       "  (0): Conv2d(3, 64, kernel_size=(3, 3), stride=(1, 1), padding=(1, 1))\n",
       "  (1): ReLU(inplace=True)\n",
       "  (2): Conv2d(64, 64, kernel_size=(3, 3), stride=(1, 1), padding=(1, 1))\n",
       "  (3): ReLU(inplace=True)\n",
       "  (4): MaxPool2d(kernel_size=2, stride=2, padding=0, dilation=1, ceil_mode=False)\n",
       "  (5): Conv2d(64, 128, kernel_size=(3, 3), stride=(1, 1), padding=(1, 1))\n",
       "  (6): ReLU(inplace=True)\n",
       "  (7): Conv2d(128, 128, kernel_size=(3, 3), stride=(1, 1), padding=(1, 1))\n",
       "  (8): ReLU(inplace=True)\n",
       "  (9): MaxPool2d(kernel_size=2, stride=2, padding=0, dilation=1, ceil_mode=False)\n",
       "  (10): Conv2d(128, 256, kernel_size=(3, 3), stride=(1, 1), padding=(1, 1))\n",
       "  (11): ReLU(inplace=True)\n",
       "  (12): Conv2d(256, 256, kernel_size=(3, 3), stride=(1, 1), padding=(1, 1))\n",
       "  (13): ReLU(inplace=True)\n",
       "  (14): Conv2d(256, 256, kernel_size=(3, 3), stride=(1, 1), padding=(1, 1))\n",
       "  (15): ReLU(inplace=True)\n",
       ")"
      ]
     },
     "execution_count": 36,
     "metadata": {},
     "output_type": "execute_result"
    }
   ],
   "source": [
    "f = vgg.features[:16]\n",
    "f"
   ]
  },
  {
   "cell_type": "code",
   "execution_count": 38,
   "metadata": {},
   "outputs": [
    {
     "data": {
      "text/plain": [
       "torch.Size([1, 256, 56, 56])"
      ]
     },
     "execution_count": 38,
     "metadata": {},
     "output_type": "execute_result"
    }
   ],
   "source": [
    "f(up(t)).shape"
   ]
  },
  {
   "cell_type": "code",
   "execution_count": 55,
   "metadata": {},
   "outputs": [
    {
     "data": {
      "text/plain": [
       "VGG(\n",
       "  (features): Sequential(\n",
       "    (0): Conv2d(3, 64, kernel_size=(3, 3), stride=(1, 1), padding=(1, 1))\n",
       "    (1): ReLU(inplace=True)\n",
       "    (2): Conv2d(64, 64, kernel_size=(3, 3), stride=(1, 1), padding=(1, 1))\n",
       "    (3): ReLU(inplace=True)\n",
       "    (4): MaxPool2d(kernel_size=2, stride=2, padding=0, dilation=1, ceil_mode=False)\n",
       "    (5): Conv2d(64, 128, kernel_size=(3, 3), stride=(1, 1), padding=(1, 1))\n",
       "    (6): ReLU(inplace=True)\n",
       "    (7): Conv2d(128, 128, kernel_size=(3, 3), stride=(1, 1), padding=(1, 1))\n",
       "    (8): ReLU(inplace=True)\n",
       "    (9): MaxPool2d(kernel_size=2, stride=2, padding=0, dilation=1, ceil_mode=False)\n",
       "    (10): Conv2d(128, 256, kernel_size=(3, 3), stride=(1, 1), padding=(1, 1))\n",
       "    (11): ReLU(inplace=True)\n",
       "    (12): Conv2d(256, 256, kernel_size=(3, 3), stride=(1, 1), padding=(1, 1))\n",
       "    (13): ReLU(inplace=True)\n",
       "    (14): Conv2d(256, 256, kernel_size=(3, 3), stride=(1, 1), padding=(1, 1))\n",
       "    (15): ReLU(inplace=True)\n",
       "    (16): MaxPool2d(kernel_size=2, stride=2, padding=0, dilation=1, ceil_mode=False)\n",
       "    (17): Conv2d(256, 512, kernel_size=(3, 3), stride=(1, 1), padding=(1, 1))\n",
       "    (18): ReLU(inplace=True)\n",
       "    (19): Conv2d(512, 512, kernel_size=(3, 3), stride=(1, 1), padding=(1, 1))\n",
       "    (20): ReLU(inplace=True)\n",
       "    (21): Conv2d(512, 512, kernel_size=(3, 3), stride=(1, 1), padding=(1, 1))\n",
       "    (22): ReLU(inplace=True)\n",
       "    (23): MaxPool2d(kernel_size=2, stride=2, padding=0, dilation=1, ceil_mode=False)\n",
       "    (24): Conv2d(512, 512, kernel_size=(3, 3), stride=(1, 1), padding=(1, 1))\n",
       "    (25): ReLU(inplace=True)\n",
       "    (26): Conv2d(512, 512, kernel_size=(3, 3), stride=(1, 1), padding=(1, 1))\n",
       "    (27): ReLU(inplace=True)\n",
       "    (28): Conv2d(512, 512, kernel_size=(3, 3), stride=(1, 1), padding=(1, 1))\n",
       "    (29): ReLU(inplace=True)\n",
       "    (30): MaxPool2d(kernel_size=2, stride=2, padding=0, dilation=1, ceil_mode=False)\n",
       "  )\n",
       "  (avgpool): AdaptiveAvgPool2d(output_size=(7, 7))\n",
       "  (classifier): Sequential(\n",
       "    (0): Linear(in_features=25088, out_features=4096, bias=True)\n",
       "    (1): ReLU(inplace=True)\n",
       "    (2): Dropout(p=0.5, inplace=False)\n",
       "    (3): Linear(in_features=4096, out_features=4096, bias=True)\n",
       "    (4): ReLU(inplace=True)\n",
       "    (5): Dropout(p=0.5, inplace=False)\n",
       "    (6): Linear(in_features=4096, out_features=1000, bias=True)\n",
       "  )\n",
       ")"
      ]
     },
     "execution_count": 55,
     "metadata": {},
     "output_type": "execute_result"
    }
   ],
   "source": [
    "# for param in vgg.features.parameters(): # https://stackoverflow.com/questions/51748138/pytorch-how-to-set-requires-grad-false\n",
    "#     param.requires_grad = False\n",
    "vgg.eval()"
   ]
  },
  {
   "cell_type": "code",
   "execution_count": 79,
   "metadata": {},
   "outputs": [],
   "source": [
    "up = nn.Upsample(scale_factor = 2)\n",
    "f = vgg.features[:16].to(device)\n",
    "\n",
    "def perc_loss(x1, x2): # le 2 immagini o i 2 batch (non cambia, fa la mse di due tensori, indipendentemente da 1 o batch_size come prima dim.)\n",
    "    # inoltre anche Upsample si aspetta che le prime due dim. siano numero e canale, tocca solo le ultime 2 (cfr docs)\n",
    "    return F.mse_loss(f(up(x1)), f(up(x2))) # versioni hd -> vgg16 -> mse"
   ]
  },
  {
   "cell_type": "code",
   "execution_count": 57,
   "metadata": {},
   "outputs": [
    {
     "data": {
      "text/plain": [
       "tensor(1.5963, grad_fn=<MseLossBackward0>)"
      ]
     },
     "execution_count": 57,
     "metadata": {},
     "output_type": "execute_result"
    }
   ],
   "source": [
    "t0, t1 = test_dataset[0]\n",
    "t0 = t0.unsqueeze(0)\n",
    "t1 = t1.unsqueeze(0)\n",
    "perc_loss(t0, t1)"
   ]
  },
  {
   "cell_type": "code",
   "execution_count": 58,
   "metadata": {},
   "outputs": [],
   "source": [
    "l = perc_loss(t0, t1)\n",
    "l.backward()"
   ]
  },
  {
   "cell_type": "code",
   "execution_count": 42,
   "metadata": {},
   "outputs": [
    {
     "data": {
      "text/plain": [
       "torch.Size([1, 3, 112, 112])"
      ]
     },
     "execution_count": 42,
     "metadata": {},
     "output_type": "execute_result"
    }
   ],
   "source": [
    "t.shape"
   ]
  },
  {
   "cell_type": "code",
   "execution_count": 41,
   "metadata": {},
   "outputs": [
    {
     "data": {
      "text/plain": [
       "tensor(0.)"
      ]
     },
     "execution_count": 41,
     "metadata": {},
     "output_type": "execute_result"
    }
   ],
   "source": [
    "F.mse_loss(t, t)"
   ]
  },
  {
   "cell_type": "code",
   "execution_count": null,
   "metadata": {},
   "outputs": [],
   "source": []
  },
  {
   "cell_type": "code",
   "execution_count": null,
   "metadata": {},
   "outputs": [],
   "source": []
  },
  {
   "cell_type": "code",
   "execution_count": null,
   "metadata": {},
   "outputs": [],
   "source": []
  },
  {
   "cell_type": "markdown",
   "metadata": {},
   "source": [
    "## CAE"
   ]
  },
  {
   "cell_type": "code",
   "execution_count": 60,
   "metadata": {},
   "outputs": [],
   "source": [
    "class ConvAutoencoder(nn.Module):\n",
    "    \n",
    "    def __init__(self):\n",
    "        super().__init__()\n",
    "        \n",
    "        ## Encoder\n",
    "        # N, 3, 112, 112\n",
    "        self.encoder = nn.Sequential(\n",
    "            nn.Conv2d(3, 64, 9), # N, 16, 104, 104\n",
    "            nn.BatchNorm2d(64),\n",
    "            nn.ReLU(),\n",
    "            nn.Conv2d(64, 64, 4, stride=2, padding=1), # N, 32, 51, 52\n",
    "            nn.BatchNorm2d(64),\n",
    "            nn.ReLU(),\n",
    "            nn.Conv2d(64, 128, 4, stride=2, padding=1), # N, 32, 26\n",
    "            nn.BatchNorm2d(128),\n",
    "            nn.ReLU(),\n",
    "            nn.Conv2d(128, 256, 4, stride=2), # N, 32, 12\n",
    "            nn.BatchNorm2d(256),\n",
    "            nn.ReLU(),\n",
    "        )\n",
    "        \n",
    "        ## Decoder\n",
    "        # N, 64, 1, 1\n",
    "        self.decoder = nn.Sequential(\n",
    "            nn.ConvTranspose2d(256, 256, 4, stride=2), # N, 32, 10, 10\n",
    "            nn.BatchNorm2d(256),\n",
    "            nn.ReLU(),\n",
    "            nn.ConvTranspose2d(256, 128, 4, stride=2, padding=1), # N, 16, 28, 28\n",
    "            nn.BatchNorm2d(128),\n",
    "            nn.ReLU(),\n",
    "            nn.ConvTranspose2d(128, 64, 4, stride=2, padding=1), # N, 16, 56, 56\n",
    "            nn.BatchNorm2d(64),\n",
    "            nn.ReLU(),\n",
    "            nn.ConvTranspose2d(64, 3, 9),\n",
    "            nn.Tanh()  \n",
    "        )\n",
    "\n",
    "    #     self.avg = nn.Sequential(\n",
    "    #         nn.ConvTranspose2d(256, 256, 1),\n",
    "    #         nn.BatchNorm2d(256),\n",
    "    #         #nn.ReLU(),\n",
    "    #     )\n",
    "\n",
    "    #     self.log_var = nn.Sequential(\n",
    "    #         nn.ConvTranspose2d(256, 256, 1),\n",
    "    #         nn.BatchNorm2d(256),\n",
    "    #         #nn.ReLU(),\n",
    "    #     )\n",
    "        \n",
    "    # def sample_in_latent_space(self, mu, log_var): # sampling from MVN in latent space with provided mean and variances\n",
    "    #     sigma = torch.exp(0.5 * log_var) #log_var is log(variance) = log(sigma**2) = 2 * log(sigma)\n",
    "    #     return mu + torch.randn_like(mu) * sigma\n",
    "    #     #Var(aX) = a**2 Var(X), so we need to multiply pred_sqrt_var = sigma (square root of the variance) by the standard normal distribution\n",
    "\n",
    "    def forward(self, x):\n",
    "        x = self.encoder(x)\n",
    "        # avg = self.avg(x)\n",
    "        # log_var = self.log_var(x)\n",
    "        # x = self.sample_in_latent_space(avg, log_var)\n",
    "        x = self.decoder(x)\n",
    "        return x#, avg, log_var\n",
    "    \n",
    "### Training cycle function\n",
    "def train_epoch(model, device, dataloader, loss_fn, optimizer):\n",
    "    model.train()\n",
    "    # Iterate the dataloader (we do not need the label values, this is unsupervised learning)\n",
    "    foo = tqdm(dataloader)\n",
    "    for image_batch, label_batch in foo: # with \"_\" we just ignore the labels (the second element of the dataloader tuple)\n",
    "        # Move tensor to the proper device\n",
    "        image_batch = image_batch.to(device)\n",
    "        label_batch = label_batch.to(device)\n",
    "        # Encode-Decode data\n",
    "        decoded_data = model(image_batch)\n",
    "        ##\n",
    "        #latent_img = model.encoder(image_batch)\n",
    "        #latent_lab = model.encoder(label_batch)\n",
    "        # Evaluate loss\n",
    "        loss = loss_fn(decoded_data, label_batch) #+ loss_fn(latent_img, latent_lab)\n",
    "        # Backward pass\n",
    "        optimizer.zero_grad()\n",
    "        loss.backward()\n",
    "        optimizer.step()\n",
    "        # Print batch loss\n",
    "        foo.set_description('Train batch loss: %f' % (loss.data))\n",
    "\n",
    "### Testing cycle function\n",
    "def test_epoch(model, device, dataloader, loss_fn):\n",
    "    model.eval()\n",
    "    with torch.no_grad(): # No need to track the gradients\n",
    "        # Define the lists to store the outputs for each batch\n",
    "        val_loss = []\n",
    "        for image_batch, label_batch in dataloader:\n",
    "            # Move tensor to the proper device\n",
    "            image_batch = image_batch.to(device)\n",
    "            label_batch = label_batch.to(device)\n",
    "            # Encode-Decode data\n",
    "            decoded_data = model(image_batch)\n",
    "            ##\n",
    "            #latent_img = model.encoder(image_batch)\n",
    "            #latent_lab = model.encoder(label_batch)\n",
    "            # Batch loss\n",
    "            loss_batch = loss_fn(decoded_data, label_batch) #+ loss_fn(latent_img, latent_lab)\n",
    "            # Append the loss\n",
    "            val_loss.append(loss_batch.detach().cpu().numpy())\n",
    "    return np.mean(val_loss)\n",
    "\n",
    "### Trainer\n",
    "def run_training(model, num_epochs, train_dataloader, val_dataloader, optim, loss_fn, device):\n",
    "    model.to(device)\n",
    "    val_loss_log = []\n",
    "    for epoch in range(num_epochs):\n",
    "        print('EPOCH %d/%d' % (epoch + 1, num_epochs))\n",
    "        ### Training\n",
    "        train_epoch(\n",
    "            model=model,\n",
    "            device=device, \n",
    "            dataloader=train_dataloader, \n",
    "            loss_fn=loss_fn, \n",
    "            optimizer=optim)\n",
    "        ### Validation  (use the testing function)\n",
    "        val_loss = test_epoch(\n",
    "            model=model,\n",
    "            device=device, \n",
    "            dataloader=val_dataloader, \n",
    "            loss_fn=loss_fn)\n",
    "        # Print Validationloss\n",
    "        print('\\n\\n\\t VALIDATION - EPOCH %d/%d - loss: %f\\n\\n' % (epoch + 1, num_epochs, val_loss))\n",
    "        val_loss_log.append(val_loss)\n",
    "        ### Plot progress\n",
    "        # Get the output of a specific image (the test image at index 0 in this case)\n",
    "        img = test_dataset[0][0].unsqueeze(0).to(device)\n",
    "        lab = test_dataset[0][1].unsqueeze(0).to(device)\n",
    "        model.eval()\n",
    "        with torch.no_grad():\n",
    "            rec_img  = model(img)\n",
    "        # Plot the reconstructed image\n",
    "        fig, axs = plt.subplots(1, 3, figsize=(9,3))\n",
    "        axs[0].imshow(plotrescale(lab.cpu().squeeze().numpy()), cmap='gist_gray')\n",
    "        axs[0].set_title('Original image')\n",
    "        axs[1].imshow(plotrescale(img.cpu().squeeze().numpy()), cmap='gist_gray')\n",
    "        axs[1].set_title('Blurred image')\n",
    "        axs[2].imshow(plotrescale(rec_img.cpu().squeeze().numpy()), cmap='gist_gray')\n",
    "        axs[2].set_title('Reconstructed image (EPOCH %d)' % (epoch + 1))\n",
    "        plt.tight_layout()\n",
    "        plt.pause(0.1)\n",
    "        plt.show()\n",
    "        plt.close()\n",
    "\n",
    "        # Save network parameters\n",
    "        #torch.save(model.state_dict(), 'CAE/state_dict'+str(epoch)+'.pth')\n",
    "\n",
    "    with open('CAE_validation_loss', 'wb') as fp:\n",
    "        pickle.dump(val_loss_log, fp)\n",
    "\n",
    "    return  val_loss_log"
   ]
  },
  {
   "cell_type": "code",
   "execution_count": 80,
   "metadata": {},
   "outputs": [],
   "source": [
    "### Set the random seed for reproducible results\n",
    "torch.manual_seed(0)\n",
    "\n",
    "### Initialize the two networks\n",
    "ConvAut = ConvAutoencoder()\n",
    "\n",
    "### Define the loss function\n",
    "loss_fn = perc_loss #torch.nn.MSELoss()\n",
    "\n",
    "### Define an optimizer \n",
    "params_to_optimize = [\n",
    "    {'params': ConvAut.encoder.parameters()},\n",
    "    {'params': ConvAut.decoder.parameters()}\n",
    "]\n",
    "optim = torch.optim.Adam(params_to_optimize, lr=5e-4, weight_decay=1e-5)"
   ]
  },
  {
   "cell_type": "code",
   "execution_count": 82,
   "metadata": {},
   "outputs": [],
   "source": [
    "# CAE_loss = run_training(ConvAut, 15, train_dataloader, test_dataloader, optim, loss_fn, device)"
   ]
  },
  {
   "cell_type": "code",
   "execution_count": 87,
   "metadata": {},
   "outputs": [
    {
     "data": {
      "text/plain": [
       "[Parameter containing:\n",
       " tensor([[[[-5.5373e-01,  1.4270e-01,  5.2896e-01],\n",
       "           [-5.8312e-01,  3.5655e-01,  7.6566e-01],\n",
       "           [-6.9022e-01, -4.8019e-02,  4.8409e-01]],\n",
       " \n",
       "          [[ 1.7548e-01,  9.8630e-03, -8.1413e-02],\n",
       "           [ 4.4089e-02, -7.0323e-02, -2.6035e-01],\n",
       "           [ 1.3239e-01, -1.7279e-01, -1.3226e-01]],\n",
       " \n",
       "          [[ 3.1303e-01, -1.6591e-01, -4.2752e-01],\n",
       "           [ 4.7519e-01, -8.2677e-02, -4.8700e-01],\n",
       "           [ 6.3203e-01,  1.9308e-02, -2.7753e-01]]],\n",
       " \n",
       " \n",
       "         [[[ 2.3254e-01,  1.2666e-01,  1.8605e-01],\n",
       "           [-4.2805e-01, -2.4349e-01,  2.4628e-01],\n",
       "           [-2.5066e-01,  1.4177e-01, -5.4864e-03]],\n",
       " \n",
       "          [[-1.4076e-01, -2.1903e-01,  1.5041e-01],\n",
       "           [-8.4127e-01, -3.5176e-01,  5.6398e-01],\n",
       "           [-2.4194e-01,  5.1928e-01,  5.3915e-01]],\n",
       " \n",
       "          [[-3.1432e-01, -3.7048e-01, -1.3094e-01],\n",
       "           [-4.7144e-01, -1.5503e-01,  3.4589e-01],\n",
       "           [ 5.4384e-02,  5.8683e-01,  4.9580e-01]]],\n",
       " \n",
       " \n",
       "         [[[ 1.7715e-01,  5.2149e-01,  9.8740e-03],\n",
       "           [-2.7185e-01, -7.1709e-01,  3.1292e-01],\n",
       "           [-7.5753e-02, -2.2079e-01,  3.3455e-01]],\n",
       " \n",
       "          [[ 3.0924e-01,  6.7071e-01,  2.0546e-02],\n",
       "           [-4.6607e-01, -1.0697e+00,  3.3501e-01],\n",
       "           [-8.0284e-02, -3.0522e-01,  5.4460e-01]],\n",
       " \n",
       "          [[ 3.1572e-01,  4.2335e-01, -3.4976e-01],\n",
       "           [ 8.6354e-02, -4.6457e-01,  1.1803e-02],\n",
       "           [ 1.0483e-01, -1.4584e-01, -1.5765e-02]]],\n",
       " \n",
       " \n",
       "         ...,\n",
       " \n",
       " \n",
       "         [[[ 7.7599e-02,  1.2692e-01,  3.2305e-02],\n",
       "           [ 2.2131e-01,  2.4681e-01, -4.6637e-02],\n",
       "           [ 4.6407e-02,  2.8246e-02,  1.7528e-02]],\n",
       " \n",
       "          [[-1.8327e-01, -6.7425e-02, -7.2120e-03],\n",
       "           [-4.8855e-02,  7.0427e-03, -1.2883e-01],\n",
       "           [-6.4601e-02, -6.4566e-02,  4.4235e-02]],\n",
       " \n",
       "          [[-2.2547e-01, -1.1931e-01, -2.3425e-02],\n",
       "           [-9.9171e-02, -1.5143e-02,  9.5385e-04],\n",
       "           [-2.6137e-02,  1.3567e-03,  1.4282e-01]]],\n",
       " \n",
       " \n",
       "         [[[ 1.6520e-02, -3.2225e-02, -3.8450e-03],\n",
       "           [-6.8206e-02, -1.9445e-01, -1.4166e-01],\n",
       "           [-6.9528e-02, -1.8340e-01, -1.7422e-01]],\n",
       " \n",
       "          [[ 4.2781e-02, -6.7529e-02, -7.0309e-03],\n",
       "           [ 1.1765e-02, -1.4958e-01, -1.2361e-01],\n",
       "           [ 1.0205e-02, -1.0393e-01, -1.1742e-01]],\n",
       " \n",
       "          [[ 1.2661e-01,  8.5046e-02,  1.3066e-01],\n",
       "           [ 1.7585e-01,  1.1288e-01,  1.1937e-01],\n",
       "           [ 1.4656e-01,  9.8892e-02,  1.0348e-01]]],\n",
       " \n",
       " \n",
       "         [[[ 3.2176e-02, -1.0766e-01, -2.6388e-01],\n",
       "           [ 2.7957e-01, -3.7416e-02, -2.5471e-01],\n",
       "           [ 3.4872e-01,  3.0041e-02, -5.5898e-02]],\n",
       " \n",
       "          [[ 2.5063e-01,  1.5543e-01, -1.7432e-01],\n",
       "           [ 3.9255e-01,  3.2306e-02, -3.5191e-01],\n",
       "           [ 1.9299e-01, -1.9898e-01, -2.9713e-01]],\n",
       " \n",
       "          [[ 4.6032e-01,  4.3399e-01,  2.8352e-01],\n",
       "           [ 1.6341e-01, -5.8165e-02, -1.9196e-01],\n",
       "           [-1.9521e-01, -4.5630e-01, -4.2732e-01]]]], device='cuda:0',\n",
       "        requires_grad=True),\n",
       " Parameter containing:\n",
       " tensor([ 0.4034,  0.3778,  0.4644, -0.3228,  0.3940, -0.3953,  0.3951, -0.5496,\n",
       "          0.2693, -0.7602, -0.3508,  0.2334, -1.3239, -0.1694,  0.3938, -0.1026,\n",
       "          0.0460, -0.6995,  0.1549,  0.5628,  0.3011,  0.3425,  0.1073,  0.4651,\n",
       "          0.1295,  0.0788, -0.0492, -0.5638,  0.1465, -0.3890, -0.0715,  0.0649,\n",
       "          0.2768,  0.3279,  0.5682, -1.2640, -0.8368, -0.9485,  0.1358,  0.2727,\n",
       "          0.1841, -0.5325,  0.3507, -0.0827, -1.0248, -0.6912, -0.7711,  0.2612,\n",
       "          0.4033, -0.4802, -0.3066,  0.5807, -1.3325,  0.4844, -0.8160,  0.2386,\n",
       "          0.2300,  0.4979,  0.5553,  0.5230, -0.2182,  0.0117, -0.5516,  0.2108],\n",
       "        device='cuda:0', requires_grad=True)]"
      ]
     },
     "execution_count": 87,
     "metadata": {},
     "output_type": "execute_result"
    }
   ],
   "source": [
    "list(f[0].parameters())"
   ]
  },
  {
   "cell_type": "code",
   "execution_count": 90,
   "metadata": {},
   "outputs": [
    {
     "data": {
      "text/plain": [
       "[Parameter containing:\n",
       " tensor([[[[-5.5373e-01,  1.4270e-01,  5.2896e-01],\n",
       "           [-5.8312e-01,  3.5655e-01,  7.6566e-01],\n",
       "           [-6.9022e-01, -4.8019e-02,  4.8409e-01]],\n",
       " \n",
       "          [[ 1.7548e-01,  9.8630e-03, -8.1413e-02],\n",
       "           [ 4.4089e-02, -7.0323e-02, -2.6035e-01],\n",
       "           [ 1.3239e-01, -1.7279e-01, -1.3226e-01]],\n",
       " \n",
       "          [[ 3.1303e-01, -1.6591e-01, -4.2752e-01],\n",
       "           [ 4.7519e-01, -8.2677e-02, -4.8700e-01],\n",
       "           [ 6.3203e-01,  1.9308e-02, -2.7753e-01]]],\n",
       " \n",
       " \n",
       "         [[[ 2.3254e-01,  1.2666e-01,  1.8605e-01],\n",
       "           [-4.2805e-01, -2.4349e-01,  2.4628e-01],\n",
       "           [-2.5066e-01,  1.4177e-01, -5.4864e-03]],\n",
       " \n",
       "          [[-1.4076e-01, -2.1903e-01,  1.5041e-01],\n",
       "           [-8.4127e-01, -3.5176e-01,  5.6398e-01],\n",
       "           [-2.4194e-01,  5.1928e-01,  5.3915e-01]],\n",
       " \n",
       "          [[-3.1432e-01, -3.7048e-01, -1.3094e-01],\n",
       "           [-4.7144e-01, -1.5503e-01,  3.4589e-01],\n",
       "           [ 5.4384e-02,  5.8683e-01,  4.9580e-01]]],\n",
       " \n",
       " \n",
       "         [[[ 1.7715e-01,  5.2149e-01,  9.8740e-03],\n",
       "           [-2.7185e-01, -7.1709e-01,  3.1292e-01],\n",
       "           [-7.5753e-02, -2.2079e-01,  3.3455e-01]],\n",
       " \n",
       "          [[ 3.0924e-01,  6.7071e-01,  2.0546e-02],\n",
       "           [-4.6607e-01, -1.0697e+00,  3.3501e-01],\n",
       "           [-8.0284e-02, -3.0522e-01,  5.4460e-01]],\n",
       " \n",
       "          [[ 3.1572e-01,  4.2335e-01, -3.4976e-01],\n",
       "           [ 8.6354e-02, -4.6457e-01,  1.1803e-02],\n",
       "           [ 1.0483e-01, -1.4584e-01, -1.5765e-02]]],\n",
       " \n",
       " \n",
       "         ...,\n",
       " \n",
       " \n",
       "         [[[ 7.7599e-02,  1.2692e-01,  3.2305e-02],\n",
       "           [ 2.2131e-01,  2.4681e-01, -4.6637e-02],\n",
       "           [ 4.6407e-02,  2.8246e-02,  1.7528e-02]],\n",
       " \n",
       "          [[-1.8327e-01, -6.7425e-02, -7.2120e-03],\n",
       "           [-4.8855e-02,  7.0427e-03, -1.2883e-01],\n",
       "           [-6.4601e-02, -6.4566e-02,  4.4235e-02]],\n",
       " \n",
       "          [[-2.2547e-01, -1.1931e-01, -2.3425e-02],\n",
       "           [-9.9171e-02, -1.5143e-02,  9.5385e-04],\n",
       "           [-2.6137e-02,  1.3567e-03,  1.4282e-01]]],\n",
       " \n",
       " \n",
       "         [[[ 1.6520e-02, -3.2225e-02, -3.8450e-03],\n",
       "           [-6.8206e-02, -1.9445e-01, -1.4166e-01],\n",
       "           [-6.9528e-02, -1.8340e-01, -1.7422e-01]],\n",
       " \n",
       "          [[ 4.2781e-02, -6.7529e-02, -7.0309e-03],\n",
       "           [ 1.1765e-02, -1.4958e-01, -1.2361e-01],\n",
       "           [ 1.0205e-02, -1.0393e-01, -1.1742e-01]],\n",
       " \n",
       "          [[ 1.2661e-01,  8.5046e-02,  1.3066e-01],\n",
       "           [ 1.7585e-01,  1.1288e-01,  1.1937e-01],\n",
       "           [ 1.4656e-01,  9.8892e-02,  1.0348e-01]]],\n",
       " \n",
       " \n",
       "         [[[ 3.2176e-02, -1.0766e-01, -2.6388e-01],\n",
       "           [ 2.7957e-01, -3.7416e-02, -2.5471e-01],\n",
       "           [ 3.4872e-01,  3.0041e-02, -5.5898e-02]],\n",
       " \n",
       "          [[ 2.5063e-01,  1.5543e-01, -1.7432e-01],\n",
       "           [ 3.9255e-01,  3.2306e-02, -3.5191e-01],\n",
       "           [ 1.9299e-01, -1.9898e-01, -2.9713e-01]],\n",
       " \n",
       "          [[ 4.6032e-01,  4.3399e-01,  2.8352e-01],\n",
       "           [ 1.6341e-01, -5.8165e-02, -1.9196e-01],\n",
       "           [-1.9521e-01, -4.5630e-01, -4.2732e-01]]]], requires_grad=True),\n",
       " Parameter containing:\n",
       " tensor([ 0.4034,  0.3778,  0.4644, -0.3228,  0.3940, -0.3953,  0.3951, -0.5496,\n",
       "          0.2693, -0.7602, -0.3508,  0.2334, -1.3239, -0.1694,  0.3938, -0.1026,\n",
       "          0.0460, -0.6995,  0.1549,  0.5628,  0.3011,  0.3425,  0.1073,  0.4651,\n",
       "          0.1295,  0.0788, -0.0492, -0.5638,  0.1465, -0.3890, -0.0715,  0.0649,\n",
       "          0.2768,  0.3279,  0.5682, -1.2640, -0.8368, -0.9485,  0.1358,  0.2727,\n",
       "          0.1841, -0.5325,  0.3507, -0.0827, -1.0248, -0.6912, -0.7711,  0.2612,\n",
       "          0.4033, -0.4802, -0.3066,  0.5807, -1.3325,  0.4844, -0.8160,  0.2386,\n",
       "          0.2300,  0.4979,  0.5553,  0.5230, -0.2182,  0.0117, -0.5516,  0.2108],\n",
       "        requires_grad=True)]"
      ]
     },
     "execution_count": 90,
     "metadata": {},
     "output_type": "execute_result"
    }
   ],
   "source": [
    "g = torchvision.models.vgg16(pretrained = True).features[:16]\n",
    "list(g[0].parameters())"
   ]
  },
  {
   "cell_type": "code",
   "execution_count": null,
   "metadata": {},
   "outputs": [],
   "source": []
  },
  {
   "cell_type": "markdown",
   "metadata": {},
   "source": [
    "## V CAE"
   ]
  },
  {
   "cell_type": "code",
   "execution_count": null,
   "metadata": {},
   "outputs": [],
   "source": [
    "class VConvAutoencoder(nn.Module):\n",
    "    \n",
    "    def __init__(self):\n",
    "        super().__init__()\n",
    "        \n",
    "        ## Encoder\n",
    "        # N, 3, 112, 112\n",
    "        self.encoder = nn.Sequential(\n",
    "            nn.Conv2d(3, 64, 9), # N, 16, 104, 104\n",
    "            nn.BatchNorm2d(64),\n",
    "            nn.ReLU(),\n",
    "            nn.Conv2d(64, 64, 4, stride=2, padding=1), # N, 32, 51, 52\n",
    "            nn.BatchNorm2d(64),\n",
    "            nn.ReLU(),\n",
    "            nn.Conv2d(64, 128, 4, stride=2, padding=1), # N, 32, 26\n",
    "            nn.BatchNorm2d(128),\n",
    "            nn.ReLU(),\n",
    "            nn.Conv2d(128, 256, 4, stride=2), # N, 32, 12\n",
    "            nn.BatchNorm2d(256),\n",
    "            nn.ReLU(),\n",
    "        )\n",
    "        \n",
    "        ## Decoder\n",
    "        # N, 64, 1, 1\n",
    "        self.decoder = nn.Sequential(\n",
    "            nn.ConvTranspose2d(256, 256, 4, stride=2), # N, 32, 10, 10\n",
    "            nn.BatchNorm2d(256),\n",
    "            nn.ReLU(),\n",
    "            nn.ConvTranspose2d(256, 128, 4, stride=2, padding=1), # N, 16, 28, 28\n",
    "            nn.BatchNorm2d(128),\n",
    "            nn.ReLU(),\n",
    "            nn.ConvTranspose2d(128, 64, 4, stride=2, padding=1), # N, 16, 56, 56\n",
    "            nn.BatchNorm2d(64),\n",
    "            nn.ReLU(),\n",
    "            nn.ConvTranspose2d(64, 3, 9),\n",
    "            nn.Tanh()  \n",
    "        )\n",
    "\n",
    "        self.avg = nn.Sequential(\n",
    "            nn.ConvTranspose2d(256, 256, 1),\n",
    "            nn.BatchNorm2d(256),\n",
    "            #nn.ReLU(),\n",
    "        )\n",
    "\n",
    "        self.log_var = nn.Sequential(\n",
    "            nn.ConvTranspose2d(256, 256, 1),\n",
    "            nn.BatchNorm2d(256),\n",
    "            #nn.ReLU(),\n",
    "        )\n",
    "        \n",
    "    def sample_in_latent_space(self, mu, log_var): # sampling from MVN in latent space with provided mean and variances\n",
    "        sigma = torch.exp(0.5 * log_var) #log_var is log(variance) = log(sigma**2) = 2 * log(sigma)\n",
    "        return mu + torch.randn_like(mu) * sigma\n",
    "        #Var(aX) = a**2 Var(X), so we need to multiply pred_sqrt_var = sigma (square root of the variance) by the standard normal distribution\n",
    "\n",
    "    def forward(self, x):\n",
    "        x = self.encoder(x)\n",
    "        avg = self.avg(x)\n",
    "        log_var = self.log_var(x)\n",
    "        x = self.sample_in_latent_space(avg, log_var)\n",
    "        x = self.decoder(x)\n",
    "        return x#, avg, log_var\n",
    "    \n",
    "### Training cycle function\n",
    "def train_epoch(model, device, dataloader, loss_fn, optimizer):\n",
    "    model.train()\n",
    "    # Iterate the dataloader (we do not need the label values, this is unsupervised learning)\n",
    "    foo = tqdm(dataloader)\n",
    "    for image_batch, label_batch in foo: # with \"_\" we just ignore the labels (the second element of the dataloader tuple)\n",
    "        # Move tensor to the proper device\n",
    "        image_batch = image_batch.to(device)\n",
    "        label_batch = label_batch.to(device)\n",
    "        # Encode-Decode data\n",
    "        decoded_data = model(image_batch)\n",
    "        ##\n",
    "        #latent_img = model.encoder(image_batch)\n",
    "        #latent_lab = model.encoder(label_batch)\n",
    "        # Evaluate loss\n",
    "        loss = loss_fn(decoded_data, label_batch) #+ loss_fn(latent_img, latent_lab)\n",
    "        # Backward pass\n",
    "        optimizer.zero_grad()\n",
    "        loss.backward()\n",
    "        optimizer.step()\n",
    "        # Print batch loss\n",
    "        foo.set_description('Train batch loss: %f' % (loss.data))\n",
    "\n",
    "### Testing cycle function\n",
    "def test_epoch(model, device, dataloader, loss_fn):\n",
    "    model.eval()\n",
    "    with torch.no_grad(): # No need to track the gradients\n",
    "        # Define the lists to store the outputs for each batch\n",
    "        val_loss = []\n",
    "        for image_batch, label_batch in dataloader:\n",
    "            # Move tensor to the proper device\n",
    "            image_batch = image_batch.to(device)\n",
    "            label_batch = label_batch.to(device)\n",
    "            # Encode-Decode data\n",
    "            decoded_data = model(image_batch)\n",
    "            ##\n",
    "            #latent_img = model.encoder(image_batch)\n",
    "            #latent_lab = model.encoder(label_batch)\n",
    "            # Batch loss\n",
    "            loss_batch = loss_fn(decoded_data, label_batch) #+ loss_fn(latent_img, latent_lab)\n",
    "            # Append the loss\n",
    "            val_loss.append(loss_batch.detach().cpu().numpy())\n",
    "    return np.mean(val_loss)\n",
    "\n",
    "### Trainer\n",
    "def run_training(model, num_epochs, train_dataloader, val_dataloader, optim, loss_fn, device):\n",
    "    model.to(device)\n",
    "    val_loss_log = []\n",
    "    for epoch in range(num_epochs):\n",
    "        print('EPOCH %d/%d' % (epoch + 1, num_epochs))\n",
    "        ### Training\n",
    "        train_epoch(\n",
    "            model=model,\n",
    "            device=device, \n",
    "            dataloader=train_dataloader, \n",
    "            loss_fn=loss_fn, \n",
    "            optimizer=optim)\n",
    "        ### Validation  (use the testing function)\n",
    "        val_loss = test_epoch(\n",
    "            model=model,\n",
    "            device=device, \n",
    "            dataloader=val_dataloader, \n",
    "            loss_fn=loss_fn)\n",
    "        # Print Validationloss\n",
    "        print('\\n\\n\\t VALIDATION - EPOCH %d/%d - loss: %f\\n\\n' % (epoch + 1, num_epochs, val_loss))\n",
    "        val_loss_log.append(val_loss)\n",
    "        ### Plot progress\n",
    "        # Get the output of a specific image (the test image at index 0 in this case)\n",
    "        img = test_dataset[0][0].unsqueeze(0).to(device)\n",
    "        lab = test_dataset[0][1].unsqueeze(0).to(device)\n",
    "        model.eval()\n",
    "        with torch.no_grad():\n",
    "            rec_img  = model(img)\n",
    "        # Plot the reconstructed image\n",
    "        fig, axs = plt.subplots(1, 3, figsize=(9,3))\n",
    "        axs[0].imshow(plotrescale(lab.cpu().squeeze().numpy()), cmap='gist_gray')\n",
    "        axs[0].set_title('Original image')\n",
    "        axs[1].imshow(plotrescale(img.cpu().squeeze().numpy()), cmap='gist_gray')\n",
    "        axs[1].set_title('Blurred image')\n",
    "        axs[2].imshow(plotrescale(rec_img.cpu().squeeze().numpy()), cmap='gist_gray')\n",
    "        axs[2].set_title('Reconstructed image (EPOCH %d)' % (epoch + 1))\n",
    "        plt.tight_layout()\n",
    "        plt.pause(0.1)\n",
    "        plt.show()\n",
    "        plt.close()\n",
    "\n",
    "        # Save network parameters\n",
    "        #torch.save(model.state_dict(), 'VCAE/state_dict'+str(epoch)+'.pth')\n",
    "\n",
    "    with open('CAE_validation_loss', 'wb') as fp:\n",
    "        pickle.dump(val_loss_log, fp)\n",
    "\n",
    "    return  val_loss_log"
   ]
  },
  {
   "cell_type": "code",
   "execution_count": null,
   "metadata": {},
   "outputs": [],
   "source": [
    "### Set the random seed for reproducible results\n",
    "torch.manual_seed(0)\n",
    "\n",
    "### Initialize the two networks\n",
    "VConvAut = VConvAutoencoder()\n",
    "\n",
    "### Define the loss function\n",
    "loss_fn = torch.nn.MSELoss()\n",
    "\n",
    "### Define an optimizer \n",
    "params_to_optimize = [\n",
    "    {'params': VConvAut.encoder.parameters()},\n",
    "    {'params': VConvAut.decoder.parameters()},\n",
    "    {'params': VConvAut.avg.parameters()},\n",
    "    {'params': VConvAut.log_var.parameters()}\n",
    "]\n",
    "optim = torch.optim.Adam(params_to_optimize, lr=5e-4, weight_decay=1e-5)"
   ]
  },
  {
   "cell_type": "code",
   "execution_count": null,
   "metadata": {},
   "outputs": [],
   "source": [
    "VCAE_loss = run_training(VConvAut, 15, train_dataloader, test_dataloader, optim, loss_fn, device)"
   ]
  }
 ],
 "metadata": {
  "kernelspec": {
   "display_name": "Python 3.9.9 64-bit",
   "language": "python",
   "name": "python3"
  },
  "language_info": {
   "codemirror_mode": {
    "name": "ipython",
    "version": 3
   },
   "file_extension": ".py",
   "mimetype": "text/x-python",
   "name": "python",
   "nbconvert_exporter": "python",
   "pygments_lexer": "ipython3",
   "version": "3.9.9"
  },
  "orig_nbformat": 4,
  "vscode": {
   "interpreter": {
    "hash": "b8eb363284fb1694869db5263c0d7857a73fbcd06182a3163e391c8e62d44dc7"
   }
  }
 },
 "nbformat": 4,
 "nbformat_minor": 2
}
